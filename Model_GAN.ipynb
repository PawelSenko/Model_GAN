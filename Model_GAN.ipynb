{
 "cells": [
  {
   "cell_type": "markdown",
   "metadata": {},
   "source": [
    "### Stworzenie modelu sieci GAN"
   ]
  },
  {
   "cell_type": "code",
   "execution_count": 12,
   "metadata": {},
   "outputs": [],
   "source": [
    "import pickle\n",
    "import matplotlib.pyplot as plt\n",
    "import numpy as np\n",
    "from keras.models import Sequential\n",
    "from keras.optimizers import Adam\n",
    "from keras import layers, models\n",
    "from sklearn.preprocessing import MinMaxScaler\n",
    "from keras.utils.vis_utils import plot_model"
   ]
  },
  {
   "cell_type": "code",
   "execution_count": 13,
   "metadata": {},
   "outputs": [],
   "source": [
    "def unpickle(file):\n",
    "    with open(file, 'rb') as fo:\n",
    "        dict = pickle.load(fo, encoding='bytes')\n",
    "    return dict\n",
    "    \n",
    "data=unpickle('cifar-10-batches-py/data_batch_1')\n",
    "\n",
    "def convert_to_rgb(image):\n",
    "    image_rgb=np.zeros((32,32,3))\n",
    "    image_rgb[:,:,0]=np.reshape(image[0:1024],(32,32))\n",
    "    image_rgb[:,:,1]=np.reshape(image[1024:2048],(32,32))\n",
    "    image_rgb[:,:,2]=np.reshape(image[2048:3072],(32,32))\n",
    "    image_rgb = (image_rgb- 127.5) / 127.5\n",
    "    \n",
    "    return np.array(image_rgb,dtype='float')\n",
    "\n",
    "def get_one_class(dict,classNum):\n",
    "    response=[]\n",
    "    for label,data in zip(dict[b'labels'],dict[b'data']):\n",
    "            if label==classNum:\n",
    "                response.append(convert_to_rgb(data))\n",
    "    return np.array(response)\n",
    "\n"
   ]
  },
  {
   "cell_type": "code",
   "execution_count": 14,
   "metadata": {},
   "outputs": [
    {
     "name": "stderr",
     "output_type": "stream",
     "text": [
      "Clipping input data to the valid range for imshow with RGB data ([0..1] for floats or [0..255] for integers).\n",
      "Clipping input data to the valid range for imshow with RGB data ([0..1] for floats or [0..255] for integers).\n",
      "Clipping input data to the valid range for imshow with RGB data ([0..1] for floats or [0..255] for integers).\n",
      "Clipping input data to the valid range for imshow with RGB data ([0..1] for floats or [0..255] for integers).\n",
      "Clipping input data to the valid range for imshow with RGB data ([0..1] for floats or [0..255] for integers).\n",
      "Clipping input data to the valid range for imshow with RGB data ([0..1] for floats or [0..255] for integers).\n",
      "Clipping input data to the valid range for imshow with RGB data ([0..1] for floats or [0..255] for integers).\n",
      "Clipping input data to the valid range for imshow with RGB data ([0..1] for floats or [0..255] for integers).\n",
      "Clipping input data to the valid range for imshow with RGB data ([0..1] for floats or [0..255] for integers).\n"
     ]
    },
    {
     "data": {
      "image/png": "[encoded data removed]",
      "text/plain": [
       "<Figure size 640x480 with 9 Axes>"
      ]
     },
     "metadata": {},
     "output_type": "display_data"
    }
   ],
   "source": [
    "# Wybrana klasa deer\n",
    "data=get_one_class(data,4)\n",
    "\n",
    "plt.figure(1)\n",
    "for i in range(9):\n",
    "    plt.subplot(3, 3, 1 + i)\n",
    "    plt.axis('off')\n",
    "    plt.imshow(data[i])\n",
    "plt.show()\n"
   ]
  },
  {
   "cell_type": "markdown",
   "metadata": {},
   "source": [
    " Model dyskryminacyjny"
   ]
  },
  {
   "cell_type": "code",
   "execution_count": 22,
   "metadata": {},
   "outputs": [],
   "source": [
    "class Discriminator():\n",
    "    def __init__(self,imageShape):\n",
    "        self.model=models.Sequential()\n",
    "        self.model.add(layers.Conv2D(filters=64,kernel_size=(3, 3), strides=(2,2), padding='same',input_shape=imageShape))\n",
    "        self.model.add(layers.LeakyReLU(alpha=0.2))        \n",
    "        self.model.add(layers.Conv2D(filters=128, kernel_size=(3,3), strides=(2, 2), padding='same', input_shape=imageShape))\n",
    "        self.model.add(layers.LeakyReLU(alpha=0.3))       \n",
    "        self.model.add(layers.Conv2D(filters=256, kernel_size=(3,3), strides=(2, 2), padding='same', input_shape=imageShape))\n",
    "        self.model.add(layers.LeakyReLU(alpha=0.1))\n",
    "        self.model.add(layers.Flatten(name='Discriminator-Flatten-Layer')) # Flatten the shape\n",
    "        self.model.add(layers.Dropout(0.4)) # Randomly drop some connections for better generalization\n",
    "        self.model.add(layers.Dense(1, activation='sigmoid')) # Output Layer\n",
    "        self.model.compile(loss='binary_crossentropy', optimizer=Adam(learning_rate=0.0002, beta_1=0.5), metrics=['accuracy'])"
   ]
  },
  {
   "cell_type": "markdown",
   "metadata": {},
   "source": [
    "Model generatywny"
   ]
  },
  {
   "cell_type": "code",
   "execution_count": 23,
   "metadata": {},
   "outputs": [],
   "source": [
    "class Generator(): \n",
    "    def __init__(self,latent_dim):\n",
    "        channels=3\n",
    "        self.model = models.Sequential()\n",
    "        n_nodes = 16 * 16 * 128\n",
    "        self.model.add(layers.Dense(n_nodes, input_dim=latent_dim))\n",
    "        self.model.add(layers.LeakyReLU(alpha=0.1))\n",
    "        self.model.add(layers.Reshape((16, 16, 128)))                           \n",
    "        self.model.add(layers.Conv2DTranspose(filters=256, kernel_size=(4,4), strides=(2,2), padding='same'))\n",
    "        self.model.add(layers.LeakyReLU())    \n",
    "        self.model.add(layers.Conv2D(256, 5, padding='same'))\n",
    "        self.model.add(layers.LeakyReLU())\n",
    "        self.model.add(layers.Conv2D(channels, 7, activation='tanh', padding='same'))"
   ]
  },
  {
   "cell_type": "markdown",
   "metadata": {},
   "source": [
    "Model sieci GAN"
   ]
  },
  {
   "cell_type": "code",
   "execution_count": 24,
   "metadata": {},
   "outputs": [],
   "source": [
    "class Gan():\n",
    "    \n",
    "    disc_loss=list()\n",
    "    gen_loss=list()\n",
    "    disc_fake_accuracy=list()\n",
    "    disc_real_accuracy=list()\n",
    "\n",
    "    \n",
    "    def __init__(self,discriminator,generator,real_samples):     \n",
    "        self.discriminator=discriminator\n",
    "        self.real_samples=real_samples\n",
    "        self.generator=generator\n",
    "        self.discriminator.trainable = False\n",
    "        self.model = Sequential(name=\"DCGAN\") # GAN Model\n",
    "        self.model.add(generator) \n",
    "        self.model.add(discriminator) \n",
    "        self.model.compile(loss='binary_crossentropy', optimizer=Adam(learning_rate=0.0002, beta_1=0.5))\n",
    "\n",
    "    def performance_summary(self,latent_dim,epochs ,n=50,plot=False):\n",
    "        scaler=MinMaxScaler(feature_range=(-1, 1))\n",
    "        data=self.real_samples.reshape(-1, 1)\n",
    "        scaler.fit(data)\n",
    "        x_real, y_real = self.random_real_sample(n , self.real_samples)\n",
    "        _, real_accuracy = self.discriminator.evaluate(x_real, y_real, verbose=0)\n",
    "        x_fake, y_fake = self.fake_samples(latent_dim, n)\n",
    "        # Evaluate the descriminator on fake (generated) data\n",
    "        _, fake_accuracy = self.discriminator.evaluate(x_fake, y_fake, verbose=0)\n",
    "        self.disc_real_accuracy.append(real_accuracy)\n",
    "        self.disc_fake_accuracy.append(fake_accuracy)\n",
    "        print(f\"*** Evaluation for epoch {epochs} ***\")\n",
    "        print(\"Discriminator Accuracy on REAL images: \", real_accuracy)\n",
    "        print(\"Discriminator Accuracy on FAKE (generated) images: \", fake_accuracy)\n",
    "        \n",
    "\n",
    "        x_fake_inv_trans=x_fake.reshape(-1, 1)\n",
    "        x_fake_inv_trans=scaler.inverse_transform(x_fake_inv_trans)\n",
    "        x_fake_inv_trans=x_fake_inv_trans.reshape(n, 32, 32, 3)\n",
    "        \n",
    "        if plot:\n",
    "            fig, axs = plt.subplots(3, 3, sharey=False, tight_layout=True, figsize=(12,6), facecolor='white')\n",
    "            fig.suptitle(f'Images after {epochs} epochs')\n",
    "            k=0\n",
    "            for i in range(0,3):\n",
    "                for j in range(0,3):\n",
    "                    axs[i,j].matshow(x_fake_inv_trans[k])\n",
    "                    axs[i,j].axis('off')\n",
    "                    k=k+1\n",
    "            plt.savefig(f'epoch_{epochs}_images.png', bbox_inches='tight')\n",
    "            plt.figure(2)\n",
    "            plt.plot(self.disc_loss)\n",
    "            plt.plot(self.gen_loss)\n",
    "            plt.legend(['Discriminator loss','Generator loss'])\n",
    "            plt.savefig(f'epoch_{epochs}_loss.png', bbox_inches='tight')\n",
    "\n",
    "    def random_real_sample(self,n, dataset):  \n",
    "        X = dataset[np.random.choice(self.real_samples.shape[0], n, replace=True), :]\n",
    "        y = np.ones((n, 1))\n",
    "        return X, y\n",
    "    \n",
    "    def fake_samples(self, latent_dim, n):\n",
    "        latent_output = self.latent_vector(latent_dim, n)\n",
    "        X = self.generator.predict(latent_output)\n",
    "        y = np.zeros((n, 1))\n",
    "        return X, y    \n",
    "    \n",
    "    def latent_vector(self,latent_dim, n):      \n",
    "        latent_input = np.random.randn(latent_dim * n)\n",
    "        latent_input = latent_input.reshape(n, latent_dim)\n",
    "        return latent_input\n",
    "\n",
    "\n",
    "\n",
    "    def train(self,dataset,latent_dim,n_epochs,n_batch,n_eval):\n",
    "         half_batch = int(n_batch / 2)\n",
    "         for i in range(n_epochs):\n",
    "            \n",
    "        # Discriminator training\n",
    "            x_real, y_real = self.random_real_sample(half_batch, dataset)\n",
    "            x_fake, y_fake = self.fake_samples(latent_dim, half_batch)\n",
    "            X, y = np.vstack((x_real, x_fake)), np.vstack((y_real, y_fake))\n",
    "            discriminator_loss, _ = self.discriminator.train_on_batch(X, y)\n",
    "        \n",
    "        # Generator training\n",
    "            x_gan = self.latent_vector(latent_dim, n_batch)\n",
    "            y_gan = np.ones((n_batch, 1))\n",
    "            generator_loss = self.model.train_on_batch(x_gan, y_gan)\n",
    "            self.disc_loss.append(discriminator_loss)\n",
    "            self.gen_loss.append(generator_loss)\n",
    "            if (i) % n_eval == 0:\n",
    "                print(\"Epoch number: \", i)\n",
    "                print(\"*** Training ***\")\n",
    "                print(\"Discriminator Loss \", discriminator_loss)\n",
    "                print(\"Generator Loss: \", generator_loss)\n",
    "                self.performance_summary(latent_dim,i,half_batch,True)\n",
    "            elif (i) % int(50) == 0:\n",
    "                print(\"Epoch number: \", i)\n",
    "                print(\"*** Training ***\")\n",
    "                print(\"Discriminator Loss \", discriminator_loss)\n",
    "                print(\"Generator Loss: \", generator_loss)\n",
    "                self.performance_summary(latent_dim,i,half_batch,False)"
   ]
  },
  {
   "cell_type": "code",
   "execution_count": 21,
   "metadata": {},
   "outputs": [
    {
     "name": "stdout",
     "output_type": "stream",
     "text": [
      "1/1 [==============================] - 1s 551ms/step\n",
      "Epoch number:  0\n",
      "*** Training ***\n",
      "Discriminator Loss  0.6890521049499512\n",
      "Generator Loss:  0.6924110054969788\n"
     ]
    },
    {
     "ename": "ValueError",
     "evalue": "in user code:\n\n    File \"c:\\Users\\pawel\\AppData\\Local\\Programs\\Python\\Python311\\Lib\\site-packages\\keras\\engine\\training.py\", line 1852, in test_function  *\n        return step_function(self, iterator)\n    File \"c:\\Users\\pawel\\AppData\\Local\\Programs\\Python\\Python311\\Lib\\site-packages\\keras\\engine\\training.py\", line 1836, in step_function  **\n        outputs = model.distribute_strategy.run(run_step, args=(data,))\n    File \"c:\\Users\\pawel\\AppData\\Local\\Programs\\Python\\Python311\\Lib\\site-packages\\keras\\engine\\training.py\", line 1824, in run_step  **\n        outputs = model.test_step(data)\n    File \"c:\\Users\\pawel\\AppData\\Local\\Programs\\Python\\Python311\\Lib\\site-packages\\keras\\engine\\training.py\", line 1788, in test_step\n        y_pred = self(x, training=False)\n    File \"c:\\Users\\pawel\\AppData\\Local\\Programs\\Python\\Python311\\Lib\\site-packages\\keras\\utils\\traceback_utils.py\", line 70, in error_handler\n        raise e.with_traceback(filtered_tb) from None\n    File \"c:\\Users\\pawel\\AppData\\Local\\Programs\\Python\\Python311\\Lib\\site-packages\\keras\\engine\\input_spec.py\", line 253, in assert_input_compatibility\n        raise ValueError(\n\n    ValueError: Exception encountered when calling layer 'sequential_3' (type Sequential).\n    \n    Input 0 of layer \"conv2d_7\" is incompatible with the layer: expected min_ndim=4, found ndim=2. Full shape received: (None, 1)\n    \n    Call arguments received by layer 'sequential_3' (type Sequential):\n      • inputs=tf.Tensor(shape=(None, 1), dtype=float32)\n      • training=False\n      • mask=None\n",
     "output_type": "error",
     "traceback": [
      "\u001b[1;31m---------------------------------------------------------------------------\u001b[0m",
      "\u001b[1;31mValueError\u001b[0m                                Traceback (most recent call last)",
      "\u001b[1;32md:\\Studia_Informatyka\\Studia_Informatyka\\Semestr_3\\Uczenie_Maszynowe_2_Cz_3\\Lab3\\Model_GAN.ipynb Cell 14\u001b[0m line \u001b[0;36m1\n\u001b[0;32m     <a href='vscode-notebook-cell:/d%3A/Studia_Informatyka/Studia_Informatyka/Semestr_3/Uczenie_Maszynowe_2_Cz_3/Lab3/Model_GAN.ipynb#X16sZmlsZQ%3D%3D?line=10'>11</a>\u001b[0m dis \u001b[39m=\u001b[39m Discriminator((height,width ,channels))\n\u001b[0;32m     <a href='vscode-notebook-cell:/d%3A/Studia_Informatyka/Studia_Informatyka/Semestr_3/Uczenie_Maszynowe_2_Cz_3/Lab3/Model_GAN.ipynb#X16sZmlsZQ%3D%3D?line=11'>12</a>\u001b[0m model \u001b[39m=\u001b[39m Model(gen, dis)\n\u001b[1;32m---> <a href='vscode-notebook-cell:/d%3A/Studia_Informatyka/Studia_Informatyka/Semestr_3/Uczenie_Maszynowe_2_Cz_3/Lab3/Model_GAN.ipynb#X16sZmlsZQ%3D%3D?line=12'>13</a>\u001b[0m train(data,latent_dim,n_epochs,n_batch,n_eval,model,gen,dis)\n",
      "\u001b[1;32md:\\Studia_Informatyka\\Studia_Informatyka\\Semestr_3\\Uczenie_Maszynowe_2_Cz_3\\Lab3\\Model_GAN.ipynb Cell 14\u001b[0m line \u001b[0;36m2\n\u001b[0;32m     <a href='vscode-notebook-cell:/d%3A/Studia_Informatyka/Studia_Informatyka/Semestr_3/Uczenie_Maszynowe_2_Cz_3/Lab3/Model_GAN.ipynb#X16sZmlsZQ%3D%3D?line=21'>22</a>\u001b[0m     \u001b[39mprint\u001b[39m(\u001b[39m\"\u001b[39m\u001b[39mDiscriminator Loss \u001b[39m\u001b[39m\"\u001b[39m, discriminator_loss)\n\u001b[0;32m     <a href='vscode-notebook-cell:/d%3A/Studia_Informatyka/Studia_Informatyka/Semestr_3/Uczenie_Maszynowe_2_Cz_3/Lab3/Model_GAN.ipynb#X16sZmlsZQ%3D%3D?line=22'>23</a>\u001b[0m     \u001b[39mprint\u001b[39m(\u001b[39m\"\u001b[39m\u001b[39mGenerator Loss: \u001b[39m\u001b[39m\"\u001b[39m, generator_loss)\n\u001b[1;32m---> <a href='vscode-notebook-cell:/d%3A/Studia_Informatyka/Studia_Informatyka/Semestr_3/Uczenie_Maszynowe_2_Cz_3/Lab3/Model_GAN.ipynb#X16sZmlsZQ%3D%3D?line=23'>24</a>\u001b[0m     performance_summary(latent_dim,dataset,dis,i,half_batch,\u001b[39mTrue\u001b[39;49;00m)\n\u001b[0;32m     <a href='vscode-notebook-cell:/d%3A/Studia_Informatyka/Studia_Informatyka/Semestr_3/Uczenie_Maszynowe_2_Cz_3/Lab3/Model_GAN.ipynb#X16sZmlsZQ%3D%3D?line=24'>25</a>\u001b[0m \u001b[39melif\u001b[39;00m (i) \u001b[39m%\u001b[39m \u001b[39mint\u001b[39m(\u001b[39m50\u001b[39m) \u001b[39m==\u001b[39m \u001b[39m0\u001b[39m:\n\u001b[0;32m     <a href='vscode-notebook-cell:/d%3A/Studia_Informatyka/Studia_Informatyka/Semestr_3/Uczenie_Maszynowe_2_Cz_3/Lab3/Model_GAN.ipynb#X16sZmlsZQ%3D%3D?line=25'>26</a>\u001b[0m     \u001b[39mprint\u001b[39m(\u001b[39m\"\u001b[39m\u001b[39mEpoch number: \u001b[39m\u001b[39m\"\u001b[39m, i)\n",
      "\u001b[1;32md:\\Studia_Informatyka\\Studia_Informatyka\\Semestr_3\\Uczenie_Maszynowe_2_Cz_3\\Lab3\\Model_GAN.ipynb Cell 14\u001b[0m line \u001b[0;36m1\n\u001b[0;32m     <a href='vscode-notebook-cell:/d%3A/Studia_Informatyka/Studia_Informatyka/Semestr_3/Uczenie_Maszynowe_2_Cz_3/Lab3/Model_GAN.ipynb#X16sZmlsZQ%3D%3D?line=12'>13</a>\u001b[0m x_real, y_real \u001b[39m=\u001b[39m random_real_sample(n ,data)\n\u001b[0;32m     <a href='vscode-notebook-cell:/d%3A/Studia_Informatyka/Studia_Informatyka/Semestr_3/Uczenie_Maszynowe_2_Cz_3/Lab3/Model_GAN.ipynb#X16sZmlsZQ%3D%3D?line=13'>14</a>\u001b[0m \u001b[39m# Evaluate the descriminator on real data\u001b[39;00m\n\u001b[1;32m---> <a href='vscode-notebook-cell:/d%3A/Studia_Informatyka/Studia_Informatyka/Semestr_3/Uczenie_Maszynowe_2_Cz_3/Lab3/Model_GAN.ipynb#X16sZmlsZQ%3D%3D?line=14'>15</a>\u001b[0m _, real_accuracy \u001b[39m=\u001b[39m dis\u001b[39m.\u001b[39;49mevaluate(x_real, y_real, verbose\u001b[39m=\u001b[39;49m\u001b[39m0\u001b[39;49m)\n\u001b[0;32m     <a href='vscode-notebook-cell:/d%3A/Studia_Informatyka/Studia_Informatyka/Semestr_3/Uczenie_Maszynowe_2_Cz_3/Lab3/Model_GAN.ipynb#X16sZmlsZQ%3D%3D?line=15'>16</a>\u001b[0m \u001b[39m# Get fake (generated) samples\u001b[39;00m\n\u001b[0;32m     <a href='vscode-notebook-cell:/d%3A/Studia_Informatyka/Studia_Informatyka/Semestr_3/Uczenie_Maszynowe_2_Cz_3/Lab3/Model_GAN.ipynb#X16sZmlsZQ%3D%3D?line=16'>17</a>\u001b[0m x_fake, y_fake \u001b[39m=\u001b[39m fake_samples(latent_dim, n)\n",
      "File \u001b[1;32mc:\\Users\\pawel\\AppData\\Local\\Programs\\Python\\Python311\\Lib\\site-packages\\keras\\utils\\traceback_utils.py:70\u001b[0m, in \u001b[0;36mfilter_traceback.<locals>.error_handler\u001b[1;34m(*args, **kwargs)\u001b[0m\n\u001b[0;32m     67\u001b[0m     filtered_tb \u001b[39m=\u001b[39m _process_traceback_frames(e\u001b[39m.\u001b[39m__traceback__)\n\u001b[0;32m     68\u001b[0m     \u001b[39m# To get the full stack trace, call:\u001b[39;00m\n\u001b[0;32m     69\u001b[0m     \u001b[39m# `tf.debugging.disable_traceback_filtering()`\u001b[39;00m\n\u001b[1;32m---> 70\u001b[0m     \u001b[39mraise\u001b[39;00m e\u001b[39m.\u001b[39mwith_traceback(filtered_tb) \u001b[39mfrom\u001b[39;00m \u001b[39mNone\u001b[39;00m\n\u001b[0;32m     71\u001b[0m \u001b[39mfinally\u001b[39;00m:\n\u001b[0;32m     72\u001b[0m     \u001b[39mdel\u001b[39;00m filtered_tb\n",
      "File \u001b[1;32m~\\AppData\\Local\\Temp\\__autograph_generated_filexbhiklwv.py:15\u001b[0m, in \u001b[0;36mouter_factory.<locals>.inner_factory.<locals>.tf__test_function\u001b[1;34m(iterator)\u001b[0m\n\u001b[0;32m     13\u001b[0m \u001b[39mtry\u001b[39;00m:\n\u001b[0;32m     14\u001b[0m     do_return \u001b[39m=\u001b[39m \u001b[39mTrue\u001b[39;00m\n\u001b[1;32m---> 15\u001b[0m     retval_ \u001b[39m=\u001b[39m ag__\u001b[39m.\u001b[39mconverted_call(ag__\u001b[39m.\u001b[39mld(step_function), (ag__\u001b[39m.\u001b[39mld(\u001b[39mself\u001b[39m), ag__\u001b[39m.\u001b[39mld(iterator)), \u001b[39mNone\u001b[39;00m, fscope)\n\u001b[0;32m     16\u001b[0m \u001b[39mexcept\u001b[39;00m:\n\u001b[0;32m     17\u001b[0m     do_return \u001b[39m=\u001b[39m \u001b[39mFalse\u001b[39;00m\n",
      "\u001b[1;31mValueError\u001b[0m: in user code:\n\n    File \"c:\\Users\\pawel\\AppData\\Local\\Programs\\Python\\Python311\\Lib\\site-packages\\keras\\engine\\training.py\", line 1852, in test_function  *\n        return step_function(self, iterator)\n    File \"c:\\Users\\pawel\\AppData\\Local\\Programs\\Python\\Python311\\Lib\\site-packages\\keras\\engine\\training.py\", line 1836, in step_function  **\n        outputs = model.distribute_strategy.run(run_step, args=(data,))\n    File \"c:\\Users\\pawel\\AppData\\Local\\Programs\\Python\\Python311\\Lib\\site-packages\\keras\\engine\\training.py\", line 1824, in run_step  **\n        outputs = model.test_step(data)\n    File \"c:\\Users\\pawel\\AppData\\Local\\Programs\\Python\\Python311\\Lib\\site-packages\\keras\\engine\\training.py\", line 1788, in test_step\n        y_pred = self(x, training=False)\n    File \"c:\\Users\\pawel\\AppData\\Local\\Programs\\Python\\Python311\\Lib\\site-packages\\keras\\utils\\traceback_utils.py\", line 70, in error_handler\n        raise e.with_traceback(filtered_tb) from None\n    File \"c:\\Users\\pawel\\AppData\\Local\\Programs\\Python\\Python311\\Lib\\site-packages\\keras\\engine\\input_spec.py\", line 253, in assert_input_compatibility\n        raise ValueError(\n\n    ValueError: Exception encountered when calling layer 'sequential_3' (type Sequential).\n    \n    Input 0 of layer \"conv2d_7\" is incompatible with the layer: expected min_ndim=4, found ndim=2. Full shape received: (None, 1)\n    \n    Call arguments received by layer 'sequential_3' (type Sequential):\n      • inputs=tf.Tensor(shape=(None, 1), dtype=float32)\n      • training=False\n      • mask=None\n"
     ]
    }
   ],
   "source": [
    "if __name__ == \"__main__\":\n",
    "    latent_dim = 40\n",
    "    height = 32\n",
    "    width = 32\n",
    "    channels = 3\n",
    "    n_epochs=6001\n",
    "    n_batch=32\n",
    "    n_eval=1000\n",
    "    \n",
    "    gen = Generator(latent_dim)\n",
    "    dis = Discriminator((height,width ,channels))\n",
    "    gan=Gan(dis.model,gen.model,data)\n",
    "    gan.train(data,latent_dim,n_epochs,n_batch,n_eval)"
   ]
  }
 ],
 "metadata": {
  "kernelspec": {
   "display_name": "Python 3",
   "language": "python",
   "name": "python3"
  },
  "language_info": {
   "codemirror_mode": {
    "name": "ipython",
    "version": 3
   },
   "file_extension": ".py",
   "mimetype": "text/x-python",
   "name": "python",
   "nbconvert_exporter": "python",
   "pygments_lexer": "ipython3",
   "version": "3.11.3"
  }
 },
 "nbformat": 4,
 "nbformat_minor": 2
}
